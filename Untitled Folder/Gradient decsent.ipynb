{
 "cells": [
  {
   "cell_type": "code",
   "execution_count": 3,
   "id": "e25786ba",
   "metadata": {},
   "outputs": [
    {
     "name": "stdout",
     "output_type": "stream",
     "text": [
      "Local Minimum: 1.0373792396055266e-18\n",
      "Value of x at Local Minimum: -2.999999998981482\n"
     ]
    }
   ],
   "source": [
    "# Define the function y = (x + 3)²\n",
    "def func(x):\n",
    "    return (x + 3) ** 2\n",
    "\n",
    "# Define the derivative of the function\n",
    "def gradient(x):\n",
    "    return 2 * (x + 3)\n",
    "\n",
    "# Set the initial value of x\n",
    "x = 2\n",
    "\n",
    "# Set hyperparameters\n",
    "learning_rate = 0.1\n",
    "num_iterations = 100\n",
    "\n",
    "# Perform gradient descent\n",
    "for i in range(num_iterations):\n",
    "    gradient_x = gradient(x)\n",
    "    x = x - learning_rate * gradient_x\n",
    "\n",
    "# The value of x at the end of the iterations is the local minimum\n",
    "local_minimum = func(x)\n",
    "\n",
    "print(\"Local Minimum:\", local_minimum)\n",
    "print(\"Value of x at Local Minimum:\", x)\n"
   ]
  },
  {
   "cell_type": "code",
   "execution_count": null,
   "id": "188caedc",
   "metadata": {},
   "outputs": [],
   "source": []
  },
  {
   "cell_type": "code",
   "execution_count": null,
   "id": "0b865330",
   "metadata": {},
   "outputs": [],
   "source": []
  }
 ],
 "metadata": {
  "kernelspec": {
   "display_name": "Python 3 (ipykernel)",
   "language": "python",
   "name": "python3"
  },
  "language_info": {
   "codemirror_mode": {
    "name": "ipython",
    "version": 3
   },
   "file_extension": ".py",
   "mimetype": "text/x-python",
   "name": "python",
   "nbconvert_exporter": "python",
   "pygments_lexer": "ipython3",
   "version": "3.10.9"
  }
 },
 "nbformat": 4,
 "nbformat_minor": 5
}
